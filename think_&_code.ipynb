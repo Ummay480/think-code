{
  "nbformat": 4,
  "nbformat_minor": 0,
  "metadata": {
    "colab": {
      "provenance": [],
      "authorship_tag": "ABX9TyNDAwS1MlLbo7anOk3qAokC",
      "include_colab_link": true
    },
    "kernelspec": {
      "name": "python3",
      "display_name": "Python 3"
    },
    "language_info": {
      "name": "python"
    }
  },
  "cells": [
    {
      "cell_type": "markdown",
      "metadata": {
        "id": "view-in-github",
        "colab_type": "text"
      },
      "source": [
        "<a href=\"https://colab.research.google.com/github/Ummay480/think-code/blob/main/think_%26_code.ipynb\" target=\"_parent\"><img src=\"https://colab.research.google.com/assets/colab-badge.svg\" alt=\"Open In Colab\"/></a>"
      ]
    },
    {
      "cell_type": "code",
      "execution_count": null,
      "metadata": {
        "colab": {
          "base_uri": "https://localhost:8080/"
        },
        "id": "5k3ccl5GZYUS",
        "outputId": "c91be58f-325a-40bb-cafe-c5519e7dc8e2"
      },
      "outputs": [
        {
          "output_type": "stream",
          "name": "stdout",
          "text": [
            "True\n",
            "False\n",
            "False\n",
            "[0, 1]\n",
            "[1, 2]\n",
            "[0, 1]\n"
          ]
        }
      ],
      "source": [
        "def is_palindrome(x: int) -> bool:\n",
        "    return str(x) == str(x)[::-1]\n",
        "\n",
        "# Test cases\n",
        "print(is_palindrome(121))   # Output: True\n",
        "print(is_palindrome(-121))  # Output: False\n",
        "print(is_palindrome(10))    # Output: False\n",
        "\n",
        "\n",
        "\n",
        "def two_sum(nums: list[int], target: int) -> list[int]:\n",
        "    for i in range(len(nums)):\n",
        "        for j in range(i + 1, len(nums)):\n",
        "            if nums[i] + nums[j] == target:\n",
        "                return [i, j]\n",
        "    return []\n",
        "\n",
        "print(two_sum([2,7,11,15], 9))   # Output: [0,1]\n",
        "print(two_sum([3,2,4], 6))       # Output: [1,2]\n",
        "print(two_sum([3,3], 6))         # Output: [0,1]\n",
        "\n"
      ]
    }
  ]
}